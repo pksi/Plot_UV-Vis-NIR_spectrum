{
  "nbformat": 4,
  "nbformat_minor": 0,
  "metadata": {
    "colab": {
      "name": "Spectral plotting [v2].ipynb",
      "provenance": [],
      "toc_visible": true
    },
    "kernelspec": {
      "name": "python3",
      "display_name": "Python 3"
    }
  },
  "cells": [
    {
      "cell_type": "code",
      "metadata": {
        "id": "f8fbUTih1tY4",
        "colab_type": "code",
        "colab": {}
      },
      "source": [
        "import matplotlib.pyplot as plt\n",
        "import numpy as np\n",
        "import csv"
      ],
      "execution_count": 1,
      "outputs": []
    },
    {
      "cell_type": "code",
      "metadata": {
        "id": "UuNayrRR2Xmo",
        "colab_type": "code",
        "colab": {
          "base_uri": "https://localhost:8080/",
          "height": 124
        },
        "outputId": "19ac8589-1703-446d-df95-370dc69ea713"
      },
      "source": [
        "from google.colab import drive\n",
        "drive.mount('/content/drive')"
      ],
      "execution_count": 2,
      "outputs": [
        {
          "output_type": "stream",
          "text": [
            "Go to this URL in a browser: https://accounts.google.com/o/oauth2/auth?client_id=947318989803-6bn6qk8qdgf4n4g3pfee6491hc0brc4i.apps.googleusercontent.com&redirect_uri=urn%3aietf%3awg%3aoauth%3a2.0%3aoob&response_type=code&scope=email%20https%3a%2f%2fwww.googleapis.com%2fauth%2fdocs.test%20https%3a%2f%2fwww.googleapis.com%2fauth%2fdrive%20https%3a%2f%2fwww.googleapis.com%2fauth%2fdrive.photos.readonly%20https%3a%2f%2fwww.googleapis.com%2fauth%2fpeopleapi.readonly\n",
            "\n",
            "Enter your authorization code:\n",
            "··········\n",
            "Mounted at /content/drive\n"
          ],
          "name": "stdout"
        }
      ]
    },
    {
      "cell_type": "code",
      "metadata": {
        "id": "TYQg7PpvBr19",
        "colab_type": "code",
        "colab": {}
      },
      "source": [
        "data_path = '/content/drive/My Drive/UV-Vis-NIR/20200701/GNBP-10xDilution.csv'"
      ],
      "execution_count": 3,
      "outputs": []
    },
    {
      "cell_type": "markdown",
      "metadata": {
        "id": "Uqd0q2ATiTg7",
        "colab_type": "text"
      },
      "source": [
        "<font color='green'>Import Row 20 to Row 1420</font> "
      ]
    },
    {
      "cell_type": "code",
      "metadata": {
        "id": "0A2i01OcF5mA",
        "colab_type": "code",
        "colab": {}
      },
      "source": [
        "file = open(data_path)\n",
        "data = csv.reader(file,delimiter=',')\n",
        "real_data = [row for idx, row in enumerate(data) if idx in range (19,1420)]"
      ],
      "execution_count": 4,
      "outputs": []
    },
    {
      "cell_type": "code",
      "metadata": {
        "id": "ebB4Y-R0lnC6",
        "colab_type": "code",
        "colab": {}
      },
      "source": [
        "#convert list in list to 2D array"
      ],
      "execution_count": null,
      "outputs": []
    },
    {
      "cell_type": "code",
      "metadata": {
        "id": "hDKwUR8Yam0k",
        "colab_type": "code",
        "colab": {
          "base_uri": "https://localhost:8080/",
          "height": 139
        },
        "outputId": "784749c9-0ad1-4ff7-86b1-b4b0a61ba19e"
      },
      "source": [
        "data_array = np.array(real_data)\n",
        "data_array"
      ],
      "execution_count": 5,
      "outputs": [
        {
          "output_type": "execute_result",
          "data": {
            "text/plain": [
              "array([['1800.0000', '0.103071'],\n",
              "       ['1799.0000', '0.103421'],\n",
              "       ['1798.0000', '0.103788'],\n",
              "       ...,\n",
              "       ['402.0000', '0.520372'],\n",
              "       ['401.0000', '0.521435'],\n",
              "       ['400.0000', '0.522564']], dtype='<U9')"
            ]
          },
          "metadata": {
            "tags": []
          },
          "execution_count": 5
        }
      ]
    },
    {
      "cell_type": "code",
      "metadata": {
        "id": "rhmPPRwUlMbs",
        "colab_type": "code",
        "colab": {}
      },
      "source": [
        "#get 1D array and convert array of strings to array of floats"
      ],
      "execution_count": 9,
      "outputs": []
    },
    {
      "cell_type": "code",
      "metadata": {
        "id": "iU3koV1wbIli",
        "colab_type": "code",
        "colab": {}
      },
      "source": [
        "x = data_array[:,0].astype(np.float) \n",
        "y = data_array[:,1].astype(np.float) "
      ],
      "execution_count": 6,
      "outputs": []
    },
    {
      "cell_type": "code",
      "metadata": {
        "id": "2akcAm9WghTc",
        "colab_type": "code",
        "colab": {
          "base_uri": "https://localhost:8080/",
          "height": 279
        },
        "outputId": "04af6154-99af-4605-bf7b-cd28736d619a"
      },
      "source": [
        "plt.plot(x,y)\n",
        "plt.xlabel('wavelength')\n",
        "plt.ylabel('optical density')\n",
        "plt.show()"
      ],
      "execution_count": 8,
      "outputs": [
        {
          "output_type": "display_data",
          "data": {
            "image/png": "[encoded data removed]",
            "text/plain": [
              "<Figure size 432x288 with 1 Axes>"
            ]
          },
          "metadata": {
            "tags": [],
            "needs_background": "light"
          }
        }
      ]
    }
  ]
}